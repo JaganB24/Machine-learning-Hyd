{
 "cells": [
  {
   "cell_type": "code",
   "execution_count": 4,
   "metadata": {},
   "outputs": [],
   "source": [
    "import pandas as pd\n",
    "import numpy as np\n",
    "import matplotlib.pyplot as plt\n",
    "import seaborn as sns\n"
   ]
  },
  {
   "cell_type": "code",
   "execution_count": 6,
   "metadata": {},
   "outputs": [
    {
     "data": {
      "text/html": [
       "<div>\n",
       "<style scoped>\n",
       "    .dataframe tbody tr th:only-of-type {\n",
       "        vertical-align: middle;\n",
       "    }\n",
       "\n",
       "    .dataframe tbody tr th {\n",
       "        vertical-align: top;\n",
       "    }\n",
       "\n",
       "    .dataframe thead th {\n",
       "        text-align: right;\n",
       "    }\n",
       "</style>\n",
       "<table border=\"1\" class=\"dataframe\">\n",
       "  <thead>\n",
       "    <tr style=\"text-align: right;\">\n",
       "      <th></th>\n",
       "      <th>x1</th>\n",
       "      <th>x2</th>\n",
       "      <th>y</th>\n",
       "    </tr>\n",
       "  </thead>\n",
       "  <tbody>\n",
       "    <tr>\n",
       "      <th>0</th>\n",
       "      <td>9</td>\n",
       "      <td>28</td>\n",
       "      <td>0</td>\n",
       "    </tr>\n",
       "    <tr>\n",
       "      <th>1</th>\n",
       "      <td>36</td>\n",
       "      <td>10</td>\n",
       "      <td>0</td>\n",
       "    </tr>\n",
       "    <tr>\n",
       "      <th>2</th>\n",
       "      <td>15</td>\n",
       "      <td>24</td>\n",
       "      <td>0</td>\n",
       "    </tr>\n",
       "    <tr>\n",
       "      <th>3</th>\n",
       "      <td>0</td>\n",
       "      <td>9</td>\n",
       "      <td>0</td>\n",
       "    </tr>\n",
       "    <tr>\n",
       "      <th>4</th>\n",
       "      <td>49</td>\n",
       "      <td>15</td>\n",
       "      <td>0</td>\n",
       "    </tr>\n",
       "  </tbody>\n",
       "</table>\n",
       "</div>"
      ],
      "text/plain": [
       "   x1  x2  y\n",
       "0   9  28  0\n",
       "1  36  10  0\n",
       "2  15  24  0\n",
       "3   0   9  0\n",
       "4  49  15  0"
      ]
     },
     "execution_count": 6,
     "metadata": {},
     "output_type": "execute_result"
    }
   ],
   "source": [
    "data = pd.read_csv('knn.csv')\n",
    "data.drop(\"Unnamed: 0\",axis=1,inplace=True)\n",
    "data.head()"
   ]
  },
  {
   "cell_type": "code",
   "execution_count": 7,
   "metadata": {},
   "outputs": [],
   "source": [
    "# separate features and target\n",
    "features = data[['x1','x2']]\n",
    "target = data['y']"
   ]
  },
  {
   "cell_type": "markdown",
   "metadata": {},
   "source": [
    "## KNN classifier\n",
    "- fit --> store the features and target\n",
    "- predict\n",
    "    - prediction multiple points\n",
    "    - run a loop for point by point\n",
    "        - calculate the nearest neighbors indices\n",
    "        - get the outcomes of the nearest neighbors\n",
    "        - predict the output bassed on neighbors class\n"
   ]
  },
  {
   "cell_type": "code",
   "execution_count": 8,
   "metadata": {},
   "outputs": [],
   "source": [
    "def fit(features,target):\n",
    "    return features,target"
   ]
  },
  {
   "cell_type": "code",
   "execution_count": null,
   "metadata": {},
   "outputs": [],
   "source": [
    "def predict(test):\n",
    "    # test - data observations to predict outcomes \n",
    "    # test is a DataFrame\n",
    "    "
   ]
  },
  {
   "cell_type": "code",
   "execution_count": 17,
   "metadata": {},
   "outputs": [],
   "source": [
    "class knn():\n",
    "    def __init__(self,distance='L2',k=5):\n",
    "        self.distance = distance\n",
    "        self.k=k\n",
    "    def fit(self,features,target):\n",
    "        self.features = features\n",
    "        self.target = target\n",
    "    def eucledian_distance(self,p1,p2):\n",
    "        return np.sqrt((p1[0]-p2[0])**2 + (p1[1]-p2[1])**2)\n",
    "    def manhattan_distance(self,p1,p2):\n",
    "        return abs(p1[0]-p2[0])+abs(p1[1]-p2[1])\n",
    "    def nearest_neighbors_indices(self,p):\n",
    "        if self.distance=='L1':\n",
    "            self.distances=[]\n",
    "            for i,feature in self.features.iterrows():\n",
    "                self.distances.append(self.manhattan_distance(p,feature))\n",
    "            self.distances = np.array(self.distances)\n",
    "            return self.distances.argsort()[:self.k]\n",
    "        if self.distance=='L2':\n",
    "            self.distances=[]\n",
    "            for i,feature in self.features.iterrows():\n",
    "                self.distances.append(self.eucledian_distance(p,feature))\n",
    "            self.distances = np.array(self.distances)\n",
    "            return self.distances.argsort()[:self.k]\n",
    "    def predict(self,test):\n",
    "        # test - data observations to predict outcomes\n",
    "        # test is a DataFrame\n",
    "        outputs =[]\n",
    "        for _,feature in test.iterrows():\n",
    "            ind = self.nearest_neighbors_indices(feature)\n",
    "            outputs.append(self.target[ind].value_counts().index[0])\n",
    "        return outputs\n",
    " \n",
    "        "
   ]
  },
  {
   "cell_type": "code",
   "execution_count": 22,
   "metadata": {},
   "outputs": [
    {
     "data": {
      "text/plain": [
       "[0, 0, 0, 1]"
      ]
     },
     "execution_count": 22,
     "metadata": {},
     "output_type": "execute_result"
    }
   ],
   "source": [
    "obj = knn()\n",
    "obj.fit(features,target)\n",
    "obj.predict(test)"
   ]
  },
  {
   "cell_type": "code",
   "execution_count": 12,
   "metadata": {},
   "outputs": [],
   "source": []
  },
  {
   "cell_type": "code",
   "execution_count": null,
   "metadata": {},
   "outputs": [],
   "source": []
  },
  {
   "cell_type": "code",
   "execution_count": null,
   "metadata": {},
   "outputs": [],
   "source": []
  }
 ],
 "metadata": {
  "kernelspec": {
   "display_name": "Python 3",
   "language": "python",
   "name": "python3"
  },
  "language_info": {
   "codemirror_mode": {
    "name": "ipython",
    "version": 3
   },
   "file_extension": ".py",
   "mimetype": "text/x-python",
   "name": "python",
   "nbconvert_exporter": "python",
   "pygments_lexer": "ipython3",
   "version": "3.7.3"
  }
 },
 "nbformat": 4,
 "nbformat_minor": 2
}
